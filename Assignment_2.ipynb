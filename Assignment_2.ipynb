{
 "cells": [
  {
   "cell_type": "code",
   "execution_count": 1,
   "id": "330ac9cc",
   "metadata": {},
   "outputs": [
    {
     "name": "stdout",
     "output_type": "stream",
     "text": [
      "My Name is Fahad Hashmi\n",
      "I am 23 years old\n",
      "and I live in Pakistan\n"
     ]
    }
   ],
   "source": [
    "# Assignment No 1\n",
    "name = \"Fahad Hashmi\"\n",
    "age = 23\n",
    "country = \"Pakistan\"\n",
    "\n",
    "result = \"My Name is \"+ name + \\\n",
    "\"\\nI am \"+ str(age) +\" years old\"+\\\n",
    "\"\\nand I live in \"+country\n",
    "\n",
    "print (result)"
   ]
  },
  {
   "cell_type": "code",
   "execution_count": 2,
   "id": "443231a5",
   "metadata": {},
   "outputs": [
    {
     "name": "stdout",
     "output_type": "stream",
     "text": [
      "\n",
      "The temperature in Karachi\n",
      "is 34\n"
     ]
    }
   ],
   "source": [
    "\n",
    "city = \"Karachi\"\n",
    "temperature = 34\n",
    "text =\"\"\"\n",
    "The temperature in {}\n",
    "is {}\"\"\".format(city,temperature)\n",
    "\n",
    "print (text)\n"
   ]
  },
  {
   "cell_type": "code",
   "execution_count": 4,
   "id": "83712316",
   "metadata": {},
   "outputs": [
    {
     "name": "stdout",
     "output_type": "stream",
     "text": [
      "\n",
      "I bought 3 Laptop at 1000 for each for a total cost of 3000\n"
     ]
    }
   ],
   "source": [
    "# Assignment No 2\n",
    "item = \"Laptop\"\n",
    "price = 1000\n",
    "quantity = 3\n",
    "total_cost = (price * quantity)\n",
    "order = \"\"\"\n",
    "I bought {} {} at {} for each for a total cost of {}\"\"\".format(quantity,item,price,total_cost,)\n",
    "print (order)"
   ]
  },
  {
   "cell_type": "code",
   "execution_count": 6,
   "id": "70f17c8c",
   "metadata": {},
   "outputs": [
    {
     "name": "stdout",
     "output_type": "stream",
     "text": [
      "\n",
      "I bought 1000 3 at Laptop for each for a total cost of 3000\n"
     ]
    }
   ],
   "source": [
    "# Assignment No 2\n",
    "item = \"Laptop\"\n",
    "price = 1000\n",
    "quantity = 3\n",
    "total_cost = (price * quantity)\n",
    "order = \"\"\"\n",
    "I bought {2} {0} at {1} for each for a total cost of {3}\"\"\".format(quantity,item,price,total_cost,)\n",
    "print (order)"
   ]
  },
  {
   "cell_type": "code",
   "execution_count": 10,
   "id": "e809c0e9",
   "metadata": {},
   "outputs": [
    {
     "name": "stdout",
     "output_type": "stream",
     "text": [
      "\n",
      "I bought 3 Laptop at 1000 for each for a total cost of 3000\n"
     ]
    }
   ],
   "source": [
    "# Assignment No 2\n",
    "item = \"Laptop\"\n",
    "price = 1000\n",
    "quantity = 3\n",
    "total_cost = (price * quantity)\n",
    "order = f\"\"\"\n",
    "I bought {quantity} {item} at {price} for each for a total cost of {total_cost}\"\"\"\n",
    "print (order)"
   ]
  },
  {
   "cell_type": "code",
   "execution_count": 5,
   "id": "fc44ac12",
   "metadata": {},
   "outputs": [
    {
     "name": "stdout",
     "output_type": "stream",
     "text": [
      "\n",
      "The temperature in Karachi is 34 °C.\n"
     ]
    }
   ],
   "source": [
    "# Assignment No 3\n",
    "city = \"Karachi\"\n",
    "temperature = 34\n",
    "text =\"\"\"\n",
    "The temperature in {} \\\n",
    "is {} °C.\"\"\".format(city,temperature)\n",
    "\n",
    "print (text)"
   ]
  },
  {
   "cell_type": "code",
   "execution_count": 26,
   "id": "739b4f0a",
   "metadata": {},
   "outputs": [
    {
     "name": "stdout",
     "output_type": "stream",
     "text": [
      "My name is Fahad Hashmi. I am 38 years old.\n",
      "38\n"
     ]
    }
   ],
   "source": [
    "# Assignment No 4\n",
    "first_name = \"Fahad\"\n",
    "last_name = \"Hashmi\"\n",
    "birth_year = 1985\n",
    "current_year = 2023\n",
    "age = (current_year - birth_year)\n",
    "result = \"My name is %s %s. I am %d years old.\" % (first_name,last_name,age)\n",
    "print (result)\n",
    "print(age)"
   ]
  },
  {
   "cell_type": "code",
   "execution_count": 4,
   "id": "5e214959",
   "metadata": {},
   "outputs": [
    {
     "name": "stdout",
     "output_type": "stream",
     "text": [
      "\n",
      "Name: Laptop, Price: 1000, Discount Percentage: 20, Discounted Price: 800.0\n",
      "\n",
      "Name: Laptop, Price: 1000, Discount Percentage: 20, Discounted Price: 800.0\n",
      "Name: Laptop, Price: 1000, Discount Percentage: 20 Discounted Price:800.0\n"
     ]
    }
   ],
   "source": [
    "# Assignment No 5\n",
    "item = \"Laptop\"\n",
    "original_price = 1000\n",
    "discount = 20\n",
    "quantity = 3\n",
    "discounted_price = original_price * (1 - discount / 100)\n",
    "total_cost = (original_price * quantity)\n",
    "order = f\"\"\"\n",
    "Name: {item}, Price: {original_price}, Discount Percentage: {discount}, Discounted Price: {discounted_price}\"\"\"\n",
    "print (order)\n",
    "order = \"\"\"\n",
    "Name: {}, Price: {}, Discount Percentage: {}, Discounted Price: {}\"\"\".format(item,original_price,discount,discounted_price)\n",
    "print (order)\n",
    "\"Name: %s, Price: %d, Discount Percentage: %d, Discounted Price: %d.\" % (item,original_price,discount,discounted_price)\n",
    "result =\"Name: \" + item +\", Price: \"+ str(original_price) + \", Discount Percentage: \" + str(discount) + \" Discounted Price:\" + str(discounted_price)\n",
    "print (result)"
   ]
  }
 ],
 "metadata": {
  "kernelspec": {
   "display_name": "Python 3 (ipykernel)",
   "language": "python",
   "name": "python3"
  },
  "language_info": {
   "codemirror_mode": {
    "name": "ipython",
    "version": 3
   },
   "file_extension": ".py",
   "mimetype": "text/x-python",
   "name": "python",
   "nbconvert_exporter": "python",
   "pygments_lexer": "ipython3",
   "version": "3.11.3"
  }
 },
 "nbformat": 4,
 "nbformat_minor": 5
}
